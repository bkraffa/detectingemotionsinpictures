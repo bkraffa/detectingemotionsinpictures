{
 "cells": [
  {
   "cell_type": "markdown",
   "metadata": {},
   "source": [
    "# 1) Imports and Parameters"
   ]
  },
  {
   "cell_type": "code",
   "execution_count": 1,
   "metadata": {},
   "outputs": [],
   "source": [
    "!pip install -q tensorflow==1.15.2"
   ]
  },
  {
   "cell_type": "code",
   "execution_count": 2,
   "metadata": {},
   "outputs": [
    {
     "name": "stderr",
     "output_type": "stream",
     "text": [
      "\n",
      "Bad key \"text.kerning_factor\" on line 4 in\n",
      "C:\\Users\\bcpython\\anaconda3\\lib\\site-packages\\matplotlib\\mpl-data\\stylelib\\_classic_test_patch.mplstyle.\n",
      "You probably need to get an updated matplotlibrc file from\n",
      "https://github.com/matplotlib/matplotlib/blob/v3.1.3/matplotlibrc.template\n",
      "or from the matplotlib source distribution\n"
     ]
    }
   ],
   "source": [
    "#Imports\n",
    "import os\n",
    "import sys\n",
    "import inspect\n",
    "import numpy as np\n",
    "import tensorflow as tf\n",
    "import matplotlib.pyplot as plt\n",
    "import matplotlib as mat\n",
    "from datetime import datetime\n",
    "from tensorflow.python.framework import ops\n",
    "from sklearn.metrics import accuracy_score\n",
    "from sklearn.metrics import precision_recall_fscore_support\n",
    "import sklearn as sk\n",
    "from modules import aux_functions #aux_functions .py file on modules folder\n",
    "%matplotlib inline"
   ]
  },
  {
   "cell_type": "code",
   "execution_count": 3,
   "metadata": {},
   "outputs": [],
   "source": [
    "import warnings\n",
    "warnings.filterwarnings('ignore')\n",
    "os.environ['TF_CPP_MIN_LOG_LEVEL'] = '3'\n",
    "ops.reset_default_graph()"
   ]
  },
  {
   "cell_type": "code",
   "execution_count": 4,
   "metadata": {},
   "outputs": [
    {
     "data": {
      "text/plain": [
       "<absl.flags._flagvalues.FlagHolder at 0x29088cfd788>"
      ]
     },
     "execution_count": 4,
     "metadata": {},
     "output_type": "execute_result"
    }
   ],
   "source": [
    "#Creating flags with the paths\n",
    "FLAGS = tf.flags.FLAGS\n",
    "tf.flags.DEFINE_string('data_dir', 'dataset/', 'Path to the directory with train and test data')\n",
    "tf.flags.DEFINE_string('logs_dir', 'model/', 'Path to the directory where the model will be saved')\n",
    "tf.flags.DEFINE_string('mode', 'train', 'mode: train (Default) / test')"
   ]
  },
  {
   "cell_type": "code",
   "execution_count": 5,
   "metadata": {},
   "outputs": [],
   "source": [
    "#Hyperparameters\n",
    "BATCH_SIZE = 128\n",
    "LEARNING_RATE = 1e-3\n",
    "MAX_ITERATIONS = 1500\n",
    "REGULARIZATION = 1e-3\n",
    "IMAGE_SIZE = 48\n",
    "NUM_LABELS = 7\n",
    "VALIDATION_PERCENT = 0.1"
   ]
  },
  {
   "cell_type": "markdown",
   "metadata": {},
   "source": [
    "# 2) Building the model"
   ]
  },
  {
   "cell_type": "code",
   "execution_count": 6,
   "metadata": {},
   "outputs": [],
   "source": [
    "def emotionCNN(dataset):\n",
    "    \n",
    "    #Convolution layer 1\n",
    "    with tf.name_scope('conv1') as scope:\n",
    "        tf.summary.histogram('W_conv1', weights['wc1'])\n",
    "        tf.summary.histogram('b_conv1', biases['bc1'])\n",
    "        conv_1 = tf.nn.conv2d(dataset, weights['wc1'], strides = [1,1,1,1], padding = 'SAME')\n",
    "        h_conv1 = tf.nn.bias_add(conv_1, biases['bc1'])\n",
    "        h_1 = tf.nn.relu(h_conv1)\n",
    "        h_pool1 = tf.nn.max_pool(h_1, ksize = [1,2,2,1], strides = [1,2,2,1], padding = 'SAME') #2x2 max pooling\n",
    "        aux_functions.add_to_regularization_loss(weights['wc1'], biases['bc1'])\n",
    "        \n",
    "    #Convolution layer 2\n",
    "    with tf.name_scope('conv2') as scope:\n",
    "        tf.summary.histogram('W_conv2', weights['wc2'])\n",
    "        tf.summary.histogram('b_conv2', biases['bc2'])\n",
    "        conv_2 = tf.nn.conv2d(h_pool1, weights['wc2'], strides = [1,1,1,1], padding = 'SAME')\n",
    "        h_conv2 = tf.nn.bias_add(conv_2, biases['bc2'])\n",
    "        h_2 = tf.nn.relu(h_conv2)\n",
    "        h_pool2 = tf.nn.max_pool(h_2, ksize = [1,2,2,1], strides = [1,2,2,1], padding = 'SAME') #2x2 max pooling\n",
    "        aux_functions.add_to_regularization_loss(weights['wc2'], biases['bc2'])\n",
    "        \n",
    "    #Fully connected layer 1\n",
    "    with tf.name_scope('fc_1') as scope:\n",
    "        prob = 0.5\n",
    "        image_size = int(IMAGE_SIZE/4) #we need to match the max pooling shapes\n",
    "        h_flat = tf.reshape(h_pool2, [-1, image_size * image_size * 64])\n",
    "        tf.summary.histogram('W_conv1', weights['wf1'])\n",
    "        tf.summary.histogram('b_conv1', biases['bf1'])\n",
    "        h_fc1 = tf.nn.relu(tf.matmul(h_flat, weights['wf1']) + biases['bf1'])\n",
    "        h_fc1_dropout = tf.nn.dropout(h_fc1, prob)\n",
    "        \n",
    "    #Fully connected layer 2\n",
    "    with tf.name_scope('fc_2') as scope:\n",
    "        tf.summary.histogram('W_fc2', weights['wf2'])\n",
    "        tf.summary.histogram('b_fc2', biases['bf2'])\n",
    "        pred = tf.matmul(h_fc1_dropout, weights['wf2'] + biases['bf2'])\n",
    "            \n",
    "    return pred            "
   ]
  },
  {
   "cell_type": "code",
   "execution_count": 7,
   "metadata": {},
   "outputs": [
    {
     "name": "stdout",
     "output_type": "stream",
     "text": [
      "WARNING:tensorflow:From C:\\Users\\bcpython\\Documents\\Python Projects\\DeepLearning - Detecting Emotions in Pictures with Convolutional Neural Network\\modules\\aux_functions.py:139: The name tf.get_variable is deprecated. Please use tf.compat.v1.get_variable instead.\n",
      "\n"
     ]
    }
   ],
   "source": [
    "#Weights and biases\n",
    "\n",
    "weights = {\n",
    "    'wc1': aux_functions.weight_variable([5,5,1,32], name = 'W_conv1'),\n",
    "    'wc2': aux_functions.weight_variable([3,3,32,64], name = 'W_conv2'),\n",
    "    'wf1': aux_functions.weight_variable([int((IMAGE_SIZE/4)*(IMAGE_SIZE/4)) * 64, 256], name = 'W_fc1'),\n",
    "    'wf2': aux_functions.weight_variable([256, NUM_LABELS], name = 'W_fc2')    \n",
    "}\n",
    "\n",
    "biases = {\n",
    "    'bc1': aux_functions.bias_variable([32], name = 'b_conv1'),\n",
    "    'bc2': aux_functions.bias_variable([64], name = 'b_conv2'),\n",
    "    'bf1': aux_functions.bias_variable([256], name = 'b_fc1'),\n",
    "    'bf2': aux_functions.bias_variable([NUM_LABELS], name = 'b_fc2')    \n",
    "}"
   ]
  },
  {
   "cell_type": "code",
   "execution_count": 8,
   "metadata": {},
   "outputs": [],
   "source": [
    "def loss(pred,label):\n",
    "    cross_entropy_loss = tf.reduce_mean(tf.nn.softmax_cross_entropy_with_logits(logits = pred, labels = label))\n",
    "    tf.summary.scalar('Entropy', cross_entropy_loss)\n",
    "    reg_losses = tf.add_n(tf.get_collection('losses'))\n",
    "    tf.summary.scalar('Reg_loss', reg_losses)\n",
    "    return cross_entropy_loss + REGULARIZATION * reg_losses"
   ]
  },
  {
   "cell_type": "code",
   "execution_count": 9,
   "metadata": {},
   "outputs": [],
   "source": [
    "def train (loss, step):\n",
    "    return tf.train.AdamOptimizer(LEARNING_RATE).minimize(loss, global_step=step)"
   ]
  },
  {
   "cell_type": "code",
   "execution_count": 10,
   "metadata": {},
   "outputs": [],
   "source": [
    "def get_next_batch(images, labels, step):\n",
    "    offset = (step * BATCH_SIZE) % (images.shape[0] - BATCH_SIZE)\n",
    "    batch_images = images[offset: offset + BATCH_SIZE]\n",
    "    batch_labels = labels[offset: offset + BATCH_SIZE]\n",
    "    return batch_images,batch_labels"
   ]
  },
  {
   "cell_type": "code",
   "execution_count": 11,
   "metadata": {},
   "outputs": [],
   "source": [
    "#Lists for train results\n",
    "train_error_list = []\n",
    "train_step_list = []\n",
    "\n",
    "#Lists for validation resuts\n",
    "valid_error_list = []\n",
    "valid_step_list = []"
   ]
  },
  {
   "cell_type": "markdown",
   "metadata": {},
   "source": [
    "# 3)Training the model"
   ]
  },
  {
   "cell_type": "code",
   "execution_count": 12,
   "metadata": {},
   "outputs": [],
   "source": [
    "sys.argv = sys.argv[:1] #to avoid Unrecognized Flag Error\n",
    "\n",
    "def main(argv = None):\n",
    "   #Load data\n",
    "    train_images, train_labels, validation_images, validation_labels, test_images = aux_functions.read_data(FLAGS.data_dir)\n",
    "    \n",
    "    print(\"Size of the train dataset: %s\" % train_images.shape[0])\n",
    "    print('Size of the validation dataset: %s' % validation_images.shape[0])\n",
    "    print(\"Size of the test dataset: %s\" % test_images.shape[0])\n",
    "\n",
    "    global_step = tf.Variable(0, trainable = False)\n",
    "    dropout_prob = tf.placeholder(tf.float32)\n",
    "    input_dataset = tf.placeholder(tf.float32, [None, IMAGE_SIZE, IMAGE_SIZE, 1], name = 'input')\n",
    "    input_labels = tf.placeholder(tf.float32, [None, NUM_LABELS])\n",
    "    \n",
    "    pred = emotionCNN(input_dataset)\n",
    "    output_pred = tf.nn.softmax(pred, name = 'output')\n",
    "    loss_val = loss(pred, input_labels)\n",
    "    train_op = train (loss_val,global_step)\n",
    "    \n",
    "    summary_op = tf.summary.merge_all()\n",
    "    init_op = tf.global_variables_initializer()\n",
    "    \n",
    "    with tf.Session() as sess:\n",
    "        sess.run(init_op)\n",
    "        summary_writer = tf.summary.FileWriter(FLAGS.logs_dir, sess.graph)\n",
    "        saver = tf.train.Saver()\n",
    "        ckpt = tf.train.get_checkpoint_state(FLAGS.logs_dir)\n",
    "        \n",
    "        if ckpt and ckpt.model_checkpoint_path:\n",
    "            saver.restore(sess, ckpt.model_checkpoint_path)\n",
    "            print('Model restored.')\n",
    "            \n",
    "        for step in range(MAX_ITERATIONS):\n",
    "            batch_image, batch_label = get_next_batch(train_images, train_labels, step)\n",
    "            feed_dict = {input_dataset:batch_image,\n",
    "                        input_labels:batch_label}\n",
    "            sess.run(train_op, feed_dict = feed_dict)\n",
    "            #showing the train loss every 10 iterations \n",
    "            if step % 10 == 0:\n",
    "                train_loss, summary_str = sess.run([loss_val, summary_op], feed_dict = feed_dict)\n",
    "                summary_writer.add_summary(summary_str, global_step = step)\n",
    "                train_error_list.append(train_loss)\n",
    "                train_step_list.append(step)\n",
    "                print(f'Train Loss: {train_loss}')\n",
    "            #showing the validation loss every 100 iterations\n",
    "            if step % 100 == 0:\n",
    "                valid_loss = sess.run(loss_val, feed_dict = {input_dataset:validation_images,\n",
    "                                                            input_labels:validation_labels})\n",
    "                valid_error_list.append(valid_loss)\n",
    "                valid_step_list.append(step)                \n",
    "                print(f'\\nLoss on the validation: {datetime.now()} -> {valid_loss}')\n",
    "                saver.save(sess,FLAGS.logs_dir + 'model.ckpt', global_step = step)\n",
    "            \n",
    "            \n",
    "        #Plotting the error per iteration during train   \n",
    "        plt.plot(train_step_list, train_error_list, 'r--', label = 'Loss in train per iteration', linewidth = 3)\n",
    "        plt.title('Loss in train per iteration')\n",
    "        plt.xlabel('Iteration')\n",
    "        plt.ylabel('Loss in train')\n",
    "        plt.ylim(0,2)\n",
    "        plt.legend()\n",
    "        plt.grid()\n",
    "        plt.show()\n",
    "        \n",
    "        #Plotting the error per iteration during validation\n",
    "        plt.plot(valid_step_list, valid_error_list, 'r--', label = 'Loss in validation per iteration', linewidth = 3, color = 'g')\n",
    "        plt.title('Loss in validation per iteration')\n",
    "        plt.xlabel('Iteration')\n",
    "        plt.ylabel('Loss in validation')\n",
    "        plt.ylim(0,2)\n",
    "        plt.legend()\n",
    "        plt.grid()\n",
    "        plt.show()"
   ]
  },
  {
   "cell_type": "code",
   "execution_count": 13,
   "metadata": {
    "scrolled": false
   },
   "outputs": [
    {
     "name": "stdout",
     "output_type": "stream",
     "text": [
      "Size of the train dataset: 3761\n",
      "Size of the validation dataset: 417\n",
      "Size of the test dataset: 1312\n",
      "WARNING:tensorflow:From C:\\Users\\bcpython\\Documents\\Python Projects\\DeepLearning - Detecting Emotions in Pictures with Convolutional Neural Network\\modules\\aux_functions.py:131: The name tf.add_to_collection is deprecated. Please use tf.compat.v1.add_to_collection instead.\n",
      "\n"
     ]
    },
    {
     "name": "stderr",
     "output_type": "stream",
     "text": [
      "W0329 22:02:01.300361 13144 module_wrapper.py:139] From C:\\Users\\bcpython\\Documents\\Python Projects\\DeepLearning - Detecting Emotions in Pictures with Convolutional Neural Network\\modules\\aux_functions.py:131: The name tf.add_to_collection is deprecated. Please use tf.compat.v1.add_to_collection instead.\n",
      "\n"
     ]
    },
    {
     "name": "stdout",
     "output_type": "stream",
     "text": [
      "WARNING:tensorflow:From <ipython-input-6-28159a80c2ca>:31: calling dropout (from tensorflow.python.ops.nn_ops) with keep_prob is deprecated and will be removed in a future version.\n",
      "Instructions for updating:\n",
      "Please use `rate` instead of `keep_prob`. Rate should be set to `rate = 1 - keep_prob`.\n"
     ]
    },
    {
     "name": "stderr",
     "output_type": "stream",
     "text": [
      "W0329 22:02:01.319267 13144 deprecation.py:506] From <ipython-input-6-28159a80c2ca>:31: calling dropout (from tensorflow.python.ops.nn_ops) with keep_prob is deprecated and will be removed in a future version.\n",
      "Instructions for updating:\n",
      "Please use `rate` instead of `keep_prob`. Rate should be set to `rate = 1 - keep_prob`.\n"
     ]
    },
    {
     "name": "stdout",
     "output_type": "stream",
     "text": [
      "WARNING:tensorflow:From <ipython-input-8-cd609b667279>:2: softmax_cross_entropy_with_logits (from tensorflow.python.ops.nn_ops) is deprecated and will be removed in a future version.\n",
      "Instructions for updating:\n",
      "\n",
      "Future major versions of TensorFlow will allow gradients to flow\n",
      "into the labels input on backprop by default.\n",
      "\n",
      "See `tf.nn.softmax_cross_entropy_with_logits_v2`.\n",
      "\n"
     ]
    },
    {
     "name": "stderr",
     "output_type": "stream",
     "text": [
      "W0329 22:02:01.343208 13144 deprecation.py:323] From <ipython-input-8-cd609b667279>:2: softmax_cross_entropy_with_logits (from tensorflow.python.ops.nn_ops) is deprecated and will be removed in a future version.\n",
      "Instructions for updating:\n",
      "\n",
      "Future major versions of TensorFlow will allow gradients to flow\n",
      "into the labels input on backprop by default.\n",
      "\n",
      "See `tf.nn.softmax_cross_entropy_with_logits_v2`.\n",
      "\n"
     ]
    },
    {
     "name": "stdout",
     "output_type": "stream",
     "text": [
      "Train Loss: 39.9744987487793\n",
      "\n",
      "Loss on the validation: 2021-03-29 22:02:03.780024 -> 40.57190704345703\n",
      "Train Loss: 8.299312591552734\n",
      "Train Loss: 2.2589621543884277\n",
      "Train Loss: 2.1537864208221436\n",
      "Train Loss: 2.2462689876556396\n",
      "Train Loss: 2.0611279010772705\n",
      "Train Loss: 2.0567362308502197\n",
      "Train Loss: 1.9881174564361572\n",
      "Train Loss: 1.9499032497406006\n",
      "Train Loss: 1.8642467260360718\n",
      "Train Loss: 1.8182673454284668\n",
      "\n",
      "Loss on the validation: 2021-03-29 22:02:43.037130 -> 1.8856226205825806\n",
      "Train Loss: 1.8582026958465576\n",
      "Train Loss: 1.7362037897109985\n",
      "Train Loss: 1.6715651750564575\n",
      "Train Loss: 1.7438290119171143\n",
      "Train Loss: 1.7507463693618774\n",
      "Train Loss: 1.794887661933899\n",
      "Train Loss: 1.7130192518234253\n",
      "Train Loss: 1.6614620685577393\n",
      "Train Loss: 1.5300894975662231\n",
      "Train Loss: 1.574946641921997\n",
      "\n",
      "Loss on the validation: 2021-03-29 22:03:23.424549 -> 1.7011215686798096\n",
      "Train Loss: 1.7051379680633545\n",
      "Train Loss: 1.5353270769119263\n",
      "Train Loss: 1.5170799493789673\n",
      "Train Loss: 1.4983556270599365\n",
      "Train Loss: 1.6119027137756348\n",
      "Train Loss: 1.3059217929840088\n",
      "Train Loss: 1.4413988590240479\n",
      "Train Loss: 1.5360019207000732\n",
      "Train Loss: 1.3966810703277588\n",
      "Train Loss: 1.3063403367996216\n",
      "\n",
      "Loss on the validation: 2021-03-29 22:04:03.658818 -> 1.524362325668335\n",
      "Train Loss: 1.3433434963226318\n",
      "Train Loss: 1.450621247291565\n",
      "Train Loss: 1.3355114459991455\n",
      "Train Loss: 1.2333157062530518\n",
      "Train Loss: 1.1221390962600708\n",
      "Train Loss: 1.2367515563964844\n",
      "Train Loss: 1.2521001100540161\n",
      "Train Loss: 1.274808406829834\n",
      "Train Loss: 1.2050526142120361\n",
      "Train Loss: 1.1674362421035767\n",
      "\n",
      "Loss on the validation: 2021-03-29 22:04:46.817833 -> 1.3497730493545532\n",
      "Train Loss: 1.233292579650879\n",
      "Train Loss: 1.294769048690796\n",
      "Train Loss: 1.127298355102539\n",
      "Train Loss: 1.129709005355835\n",
      "Train Loss: 1.3363553285598755\n",
      "Train Loss: 1.2094169855117798\n",
      "Train Loss: 1.125478744506836\n",
      "Train Loss: 1.0617671012878418\n",
      "Train Loss: 0.9001765251159668\n",
      "Train Loss: 1.0717949867248535\n",
      "\n",
      "Loss on the validation: 2021-03-29 22:05:25.638936 -> 1.2665951251983643\n",
      "WARNING:tensorflow:From C:\\Users\\bcpython\\anaconda3\\lib\\site-packages\\tensorflow_core\\python\\training\\saver.py:963: remove_checkpoint (from tensorflow.python.training.checkpoint_management) is deprecated and will be removed in a future version.\n",
      "Instructions for updating:\n",
      "Use standard file APIs to delete files with this prefix.\n"
     ]
    },
    {
     "name": "stderr",
     "output_type": "stream",
     "text": [
      "W0329 22:05:26.151451 13144 deprecation.py:323] From C:\\Users\\bcpython\\anaconda3\\lib\\site-packages\\tensorflow_core\\python\\training\\saver.py:963: remove_checkpoint (from tensorflow.python.training.checkpoint_management) is deprecated and will be removed in a future version.\n",
      "Instructions for updating:\n",
      "Use standard file APIs to delete files with this prefix.\n"
     ]
    },
    {
     "name": "stdout",
     "output_type": "stream",
     "text": [
      "Train Loss: 1.005903720855713\n",
      "Train Loss: 1.1004211902618408\n",
      "Train Loss: 1.1235159635543823\n",
      "Train Loss: 0.9491124153137207\n",
      "Train Loss: 1.0357106924057007\n",
      "Train Loss: 1.0841166973114014\n",
      "Train Loss: 1.031748652458191\n",
      "Train Loss: 1.037313461303711\n",
      "Train Loss: 0.9676849246025085\n",
      "Train Loss: 0.9917436838150024\n",
      "\n",
      "Loss on the validation: 2021-03-29 22:06:04.667115 -> 1.197448968887329\n",
      "Train Loss: 0.8776110410690308\n",
      "Train Loss: 1.1477985382080078\n",
      "Train Loss: 1.0485079288482666\n",
      "Train Loss: 1.1202008724212646\n",
      "Train Loss: 0.8702567219734192\n",
      "Train Loss: 0.9027022123336792\n",
      "Train Loss: 0.8453480005264282\n",
      "Train Loss: 0.8376469612121582\n",
      "Train Loss: 0.9547092914581299\n",
      "Train Loss: 0.9970430135726929\n",
      "\n",
      "Loss on the validation: 2021-03-29 22:06:42.099036 -> 1.2507413625717163\n",
      "Train Loss: 0.9429769515991211\n",
      "Train Loss: 0.9395319223403931\n",
      "Train Loss: 0.8899175524711609\n",
      "Train Loss: 1.049511194229126\n",
      "Train Loss: 0.9476929903030396\n",
      "Train Loss: 0.8577472567558289\n",
      "Train Loss: 0.8734753727912903\n",
      "Train Loss: 0.8029347062110901\n",
      "Train Loss: 0.8353433012962341\n",
      "Train Loss: 0.8609113693237305\n",
      "\n",
      "Loss on the validation: 2021-03-29 22:07:20.458860 -> 1.0920994281768799\n",
      "Train Loss: 0.9314981698989868\n",
      "Train Loss: 0.7173625230789185\n",
      "Train Loss: 0.7090938091278076\n",
      "Train Loss: 0.7120900750160217\n",
      "Train Loss: 0.7904371023178101\n",
      "Train Loss: 0.831104040145874\n",
      "Train Loss: 0.7461063861846924\n",
      "Train Loss: 0.955191433429718\n",
      "Train Loss: 0.7951979637145996\n",
      "Train Loss: 0.880695104598999\n",
      "\n",
      "Loss on the validation: 2021-03-29 22:07:58.465664 -> 1.0840157270431519\n",
      "Train Loss: 0.9317148923873901\n",
      "Train Loss: 0.8933908343315125\n",
      "Train Loss: 0.6989120841026306\n",
      "Train Loss: 0.7935072779655457\n",
      "Train Loss: 0.7529239654541016\n",
      "Train Loss: 0.7303776741027832\n",
      "Train Loss: 0.7920137047767639\n",
      "Train Loss: 0.6970170140266418\n",
      "Train Loss: 0.6453958749771118\n",
      "Train Loss: 0.7508209943771362\n",
      "\n",
      "Loss on the validation: 2021-03-29 22:08:36.479186 -> 1.06128990650177\n",
      "Train Loss: 0.6395156383514404\n",
      "Train Loss: 0.7844775915145874\n",
      "Train Loss: 0.7170257568359375\n",
      "Train Loss: 0.6609148979187012\n",
      "Train Loss: 0.8685654401779175\n",
      "Train Loss: 0.6778826117515564\n",
      "Train Loss: 0.6903417110443115\n",
      "Train Loss: 0.7558308243751526\n",
      "Train Loss: 0.7157126665115356\n",
      "Train Loss: 0.6859889030456543\n",
      "\n",
      "Loss on the validation: 2021-03-29 22:09:14.453260 -> 1.0431865453720093\n",
      "Train Loss: 0.7325918674468994\n",
      "Train Loss: 0.6866704225540161\n",
      "Train Loss: 0.7838945388793945\n",
      "Train Loss: 0.7387503385543823\n",
      "Train Loss: 0.646310031414032\n",
      "Train Loss: 0.6766672730445862\n",
      "Train Loss: 0.701678991317749\n",
      "Train Loss: 0.6391875743865967\n",
      "Train Loss: 0.5545783042907715\n",
      "Train Loss: 0.6303999423980713\n",
      "\n",
      "Loss on the validation: 2021-03-29 22:09:53.389049 -> 1.0794792175292969\n",
      "Train Loss: 0.6876336336135864\n",
      "Train Loss: 0.6851691007614136\n",
      "Train Loss: 0.4890679121017456\n",
      "Train Loss: 0.6609225273132324\n",
      "Train Loss: 0.5933857560157776\n",
      "Train Loss: 0.6285685300827026\n",
      "Train Loss: 0.6027798652648926\n",
      "Train Loss: 0.6103328466415405\n",
      "Train Loss: 0.7028137445449829\n",
      "Train Loss: 0.6970837116241455\n",
      "\n",
      "Loss on the validation: 2021-03-29 22:10:31.196409 -> 0.9531450271606445\n",
      "Train Loss: 0.48758187890052795\n",
      "Train Loss: 0.5932113528251648\n",
      "Train Loss: 0.5979627370834351\n",
      "Train Loss: 0.6290566325187683\n",
      "Train Loss: 0.5480084419250488\n",
      "Train Loss: 0.519310712814331\n",
      "Train Loss: 0.600395143032074\n",
      "Train Loss: 0.628212571144104\n",
      "Train Loss: 0.5683738589286804\n",
      "Train Loss: 0.6175330877304077\n",
      "\n",
      "Loss on the validation: 2021-03-29 22:11:09.504887 -> 1.0488981008529663\n",
      "Train Loss: 0.4907234013080597\n",
      "Train Loss: 0.5366300940513611\n",
      "Train Loss: 0.5349052548408508\n",
      "Train Loss: 0.579802930355072\n",
      "Train Loss: 0.6515551805496216\n",
      "Train Loss: 0.6365575194358826\n",
      "Train Loss: 0.5755496025085449\n",
      "Train Loss: 0.49565500020980835\n",
      "Train Loss: 0.5268737077713013\n"
     ]
    },
    {
     "data": {
      "image/png": "[encoded data removed]",
      "text/plain": [
       "<Figure size 432x288 with 1 Axes>"
      ]
     },
     "metadata": {
      "needs_background": "light"
     },
     "output_type": "display_data"
    },
    {
     "data": {
      "image/png": "[encoded data removed]",
      "text/plain": [
       "<Figure size 432x288 with 1 Axes>"
      ]
     },
     "metadata": {
      "needs_background": "light"
     },
     "output_type": "display_data"
    },
    {
     "ename": "SystemExit",
     "evalue": "",
     "output_type": "error",
     "traceback": [
      "An exception has occurred, use %tb to see the full traceback.\n",
      "\u001b[1;31mSystemExit\u001b[0m\n"
     ]
    }
   ],
   "source": [
    "#Running the model\n",
    "if __name__ == \"__main__\":\n",
    "    tf.app.run()"
   ]
  }
 ],
 "metadata": {
  "kernelspec": {
   "display_name": "Python 3",
   "language": "python",
   "name": "python3"
  },
  "language_info": {
   "codemirror_mode": {
    "name": "ipython",
    "version": 3
   },
   "file_extension": ".py",
   "mimetype": "text/x-python",
   "name": "python",
   "nbconvert_exporter": "python",
   "pygments_lexer": "ipython3",
   "version": "3.7.6"
  }
 },
 "nbformat": 4,
 "nbformat_minor": 4
}
